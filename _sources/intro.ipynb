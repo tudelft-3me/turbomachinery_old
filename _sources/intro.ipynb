{
 "cells": [
  {
   "cell_type": "markdown",
   "id": "ac5ed8e4",
   "metadata": {},
   "source": [
    "# Introduction\n",
    "\n",
    "Dear Students,\n",
    "\n",
    "Welcome to the Mechanical Engineering Turbomachinery Course 2022/2023.\n",
    "\n",
    "If you have any questions upfront, please contact me: s.a.klein@tudelft.nl.   \n",
    "\n",
    "Regards,\n",
    "\n",
    "Sikke Klein <br>\n",
    "Rene Pecnik <br>\n",
    "Luuk Altenburg <br>"
   ]
  }
 ],
 "metadata": {
  "jupytext": {
   "text_representation": {
    "extension": ".md",
    "format_name": "myst",
    "format_version": 0.13,
    "jupytext_version": "1.10.3"
   }
  },
  "kernelspec": {
   "display_name": "Python 3 (ipykernel)",
   "language": "python",
   "name": "python3"
  },
  "language_info": {
   "codemirror_mode": {
    "name": "ipython",
    "version": 3
   },
   "file_extension": ".py",
   "mimetype": "text/x-python",
   "name": "python",
   "nbconvert_exporter": "python",
   "pygments_lexer": "ipython3",
   "version": "3.7.15"
  },
  "source_map": [
   12
  ]
 },
 "nbformat": 4,
 "nbformat_minor": 5
}